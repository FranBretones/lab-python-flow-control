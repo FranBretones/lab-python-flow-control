{
 "cells": [
  {
   "cell_type": "markdown",
   "id": "d3bfc191-8885-42ee-b0a0-bbab867c6f9f",
   "metadata": {
    "tags": []
   },
   "source": [
    "# Lab | Flow Control"
   ]
  },
  {
   "cell_type": "markdown",
   "id": "3851fcd1-cf98-4653-9c89-e003b7ec9400",
   "metadata": {},
   "source": [
    "## Exercise: Managing Customer Orders Optimized\n",
    "\n",
    "In the last lab, you were starting an online store that sells various products. To ensure smooth operations, you developed a program that manages customer orders and inventory.\n",
    "\n",
    "You did so without using flow control. Let's go a step further and improve this code.\n",
    "\n",
    "Follow the steps below to complete the exercise:\n",
    "\n",
    "1. Look at your code from the lab data structures, and improve repeated code with loops.\n",
    "\n",
    "2. Instead of asking the user to input the name of three products that a customer wants to order, do the following:\n",
    "    \n",
    "    a. Prompt the user to enter the name of a product that a customer wants to order.\n",
    "    \n",
    "    b. Add the product name to the \"customer_orders\" set.\n",
    "    \n",
    "    c. Ask the user if they want to add another product (yes/no).\n",
    "    \n",
    "    d. Continue the loop until the user does not want to add another product.\n",
    "\n",
    "3. Instead of updating the inventory by subtracting 1 from the quantity of each product, only do it for  the products that were ordered (those in \"customer_orders\")."
   ]
  },
  {
   "cell_type": "code",
   "execution_count": 4,
   "id": "02568d68",
   "metadata": {},
   "outputs": [],
   "source": [
    "#list of products\n",
    "products = [\"t-shirt\", \"mug\", \"hat\", \"book\", \"keychain\"]\n",
    "\n",
    "#create an empty inventory\n",
    "\n",
    "inventory = {}\n",
    "\n",
    "for i in products:\n",
    "    quantity = int(input(f\"Enter the quantity for {i}: \"))\n",
    "    inventory[i] = quantity\n",
    "\n",
    "#Create the empty set \"order_product\"\n",
    "customer_order = set()"
   ]
  },
  {
   "cell_type": "code",
   "execution_count": 5,
   "id": "3cc96946",
   "metadata": {},
   "outputs": [
    {
     "name": "stdout",
     "output_type": "stream",
     "text": [
      "{'t-shirt': 10, 'mug': 10, 'hat': 10, 'book': 10, 'keychain': 10}\n"
     ]
    }
   ],
   "source": [
    "print (inventory)"
   ]
  },
  {
   "cell_type": "code",
   "execution_count": 6,
   "id": "07fbb927",
   "metadata": {},
   "outputs": [
    {
     "name": "stdout",
     "output_type": "stream",
     "text": [
      "Your order is complete.\n"
     ]
    }
   ],
   "source": [
    "#2. Instead of asking the user to input the name of three products that a customer wants to order, do the following:\n",
    "\n",
    "while True:\n",
    "    product_name = input(\"Enter the name of the product you want to order: \") #Prompt the user to enter the name of a product that a customer wants to order.\n",
    "    if product_name in products:\n",
    "        customer_order.add(product_name) #b.Add the product name to the \"customer_orders\" set.\n",
    "    else:\n",
    "        print(f\"{product_name} is not available.\")\n",
    "\n",
    "    another_product = input(\"Do you want to add another product? (yes/no): \").strip().lower() #c. Ask the user if they want to add another product (yes/no)\n",
    "    if another_product != 'yes': #d. Continue the loop until the user enters 'no'.\n",
    "        print(\"Your order is complete.\")\n",
    "        break"
   ]
  },
  {
   "cell_type": "code",
   "execution_count": 7,
   "id": "0f44b404",
   "metadata": {},
   "outputs": [
    {
     "name": "stdout",
     "output_type": "stream",
     "text": [
      "Order for hat has been processed.\n",
      "Order for mug has been processed.\n",
      "Order for keychain has been processed.\n",
      "Updated inventory:\n",
      "t-shirt: 10 remaining\n",
      "mug: 9 remaining\n",
      "hat: 9 remaining\n",
      "book: 10 remaining\n",
      "keychain: 9 remaining\n"
     ]
    }
   ],
   "source": [
    "#3. Instead of updating the inventory by subtracting 1 from the quantity of each product, only do it for  the products that were ordered (those in \"customer_orders\")\n",
    "\n",
    "for product in customer_order:\n",
    "    if product in inventory and inventory[product] > 0:\n",
    "        inventory[product] -= 1\n",
    "        print(f\"Order for {product} has been processed.\")\n",
    "\n",
    "#print the updated inventory\n",
    "\n",
    "print(\"Updated inventory:\")\n",
    "for product, quantity in inventory.items():\n",
    "    print(f\"{product}: {quantity} remaining\")"
   ]
  }
 ],
 "metadata": {
  "kernelspec": {
   "display_name": "venv",
   "language": "python",
   "name": "python3"
  },
  "language_info": {
   "codemirror_mode": {
    "name": "ipython",
    "version": 3
   },
   "file_extension": ".py",
   "mimetype": "text/x-python",
   "name": "python",
   "nbconvert_exporter": "python",
   "pygments_lexer": "ipython3",
   "version": "3.12.1"
  }
 },
 "nbformat": 4,
 "nbformat_minor": 5
}
